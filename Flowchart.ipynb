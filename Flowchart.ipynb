{
 "cells": [
  {
   "cell_type": "code",
   "execution_count": 2,
   "id": "1a79971c",
   "metadata": {},
   "outputs": [
    {
     "name": "stdout",
     "output_type": "stream",
     "text": [
      "Collecting graphviz\n",
      "  Downloading graphviz-0.21-py3-none-any.whl.metadata (12 kB)\n",
      "Downloading graphviz-0.21-py3-none-any.whl (47 kB)\n",
      "Installing collected packages: graphviz\n",
      "Successfully installed graphviz-0.21\n",
      "Note: you may need to restart the kernel to use updated packages.\n"
     ]
    }
   ],
   "source": [
    "pip install graphviz"
   ]
  },
  {
   "cell_type": "code",
   "execution_count": 4,
   "id": "c50c9921",
   "metadata": {},
   "outputs": [
    {
     "name": "stdout",
     "output_type": "stream",
     "text": [
      "✅ Flowchart saved to /Users/mehalsrivastava/Desktop/cafe_flowchart_fixed.png\n"
     ]
    }
   ],
   "source": [
    "import os\n",
    "from graphviz import Digraph\n",
    "\n",
    "# Create flowchart\n",
    "flowchart = Digraph(format=\"png\")\n",
    "flowchart.attr(rankdir=\"TB\", size=\"8\")\n",
    "\n",
    "# Nodes\n",
    "flowchart.node(\"start\", \"Start\", shape=\"circle\", style=\"filled\", fillcolor=\"lightblue\")\n",
    "flowchart.node(\"browse\", \"Browse Cafes\", shape=\"box\", style=\"rounded,filled\", fillcolor=\"lightyellow\")\n",
    "flowchart.node(\"details\", \"View Cafe Details\", shape=\"box\", style=\"rounded,filled\", fillcolor=\"lightyellow\")\n",
    "flowchart.node(\"swipe\", \"Swipe Action\", shape=\"diamond\", style=\"filled\", fillcolor=\"lightpink\")\n",
    "flowchart.node(\"accept\", \"Accept Cafe\", shape=\"box\", style=\"rounded,filled\", fillcolor=\"lightgreen\")\n",
    "flowchart.node(\"reject\", \"Reject Cafe\", shape=\"box\", style=\"rounded,filled\", fillcolor=\"lightcoral\")\n",
    "flowchart.node(\"save\", \"Save to Favorites\", shape=\"parallelogram\", style=\"filled\", fillcolor=\"lightgreen\")\n",
    "flowchart.node(\"skip\", \"Skip Cafe\", shape=\"parallelogram\", style=\"filled\", fillcolor=\"lightcoral\")\n",
    "flowchart.node(\"end\", \"End\", shape=\"circle\", style=\"filled\", fillcolor=\"lightblue\")\n",
    "\n",
    "# Edges\n",
    "flowchart.edge(\"start\", \"browse\")\n",
    "flowchart.edge(\"browse\", \"details\")\n",
    "flowchart.edge(\"details\", \"swipe\")\n",
    "\n",
    "# Correct swipe actions\n",
    "flowchart.edge(\"swipe\", \"accept\", label=\"Swipe Right\")\n",
    "flowchart.edge(\"swipe\", \"reject\", label=\"Swipe Left\")\n",
    "\n",
    "# Accept path\n",
    "flowchart.edge(\"accept\", \"save\", label=\"Save Option\")\n",
    "flowchart.edge(\"accept\", \"browse\", label=\"Back to Browse\")\n",
    "\n",
    "# Reject path\n",
    "flowchart.edge(\"reject\", \"skip\", label=\"Skip Option\")\n",
    "flowchart.edge(\"reject\", \"browse\", label=\"Back to Browse\")\n",
    "\n",
    "# End\n",
    "flowchart.edge(\"save\", \"end\")\n",
    "flowchart.edge(\"skip\", \"end\")\n",
    "\n",
    "# Save file to Desktop (auto-detect username)\n",
    "desktop_path = os.path.expanduser(\"~/Desktop/cafe_flowchart_fixed\")\n",
    "flowchart.render(desktop_path, format=\"png\", cleanup=False)\n",
    "\n",
    "print(f\"✅ Flowchart saved to {desktop_path}.png\")"
   ]
  }
 ],
 "metadata": {
  "kernelspec": {
   "display_name": "Python 3",
   "language": "python",
   "name": "python3"
  },
  "language_info": {
   "codemirror_mode": {
    "name": "ipython",
    "version": 3
   },
   "file_extension": ".py",
   "mimetype": "text/x-python",
   "name": "python",
   "nbconvert_exporter": "python",
   "pygments_lexer": "ipython3",
   "version": "3.13.7"
  }
 },
 "nbformat": 4,
 "nbformat_minor": 5
}
